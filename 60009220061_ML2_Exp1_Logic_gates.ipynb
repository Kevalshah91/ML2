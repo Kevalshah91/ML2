{
  "cells": [
    {
      "cell_type": "markdown",
      "source": [
        "Namr : Keval Shah\n",
        "<br>\n",
        "SAP : 60009220061"
      ],
      "metadata": {
        "id": "Lww71uHUXqlj"
      }
    },
    {
      "cell_type": "code",
      "execution_count": null,
      "metadata": {
        "metadata": {},
        "id": "883Qu_A3SqRc"
      },
      "outputs": [],
      "source": [
        "import numpy as np"
      ]
    },
    {
      "cell_type": "code",
      "execution_count": null,
      "metadata": {
        "metadata": {},
        "id": "Ne-rLJzsSqRf"
      },
      "outputs": [],
      "source": [
        "def step(yin):\n",
        "  if(yin>=0):\n",
        "    return 1\n",
        "  else:\n",
        "    return 0\n",
        "def AND(x):\n",
        "    w = np.array([1,1])\n",
        "    b = -2\n",
        "    yin=np.dot(x,w)+b\n",
        "    ynet=step(yin)\n",
        "    return ynet"
      ]
    },
    {
      "cell_type": "code",
      "execution_count": null,
      "metadata": {
        "metadata": {},
        "id": "qznJnFA2SqRg"
      },
      "outputs": [],
      "source": [
        "t1=np.array([0,0])\n",
        "t2=np.array([0,1])\n",
        "t3=np.array([1,0])\n",
        "t4=np.array([1,1])\n",
        "inputs = [t1, t2, t3, t4]"
      ]
    },
    {
      "cell_type": "code",
      "source": [
        "def show(inputs, func):\n",
        "    print(\"Input    | Output\")\n",
        "    print(\"-----------------\")\n",
        "    for i, t in enumerate(inputs, 1):\n",
        "        output = func(t)\n",
        "        print(f\"{t} |   {output}\")"
      ],
      "metadata": {
        "id": "wyLUCBoVUd0K"
      },
      "execution_count": null,
      "outputs": []
    },
    {
      "cell_type": "code",
      "source": [
        "show(inputs, AND)"
      ],
      "metadata": {
        "colab": {
          "base_uri": "https://localhost:8080/"
        },
        "id": "u3KOR5CYTJ_f",
        "outputId": "1ffc826a-ba30-4e41-e53d-8b8b9a4e30d6"
      },
      "execution_count": null,
      "outputs": [
        {
          "output_type": "stream",
          "name": "stdout",
          "text": [
            "Input    | Output\n",
            "-----------------\n",
            "[0 0] |   0\n",
            "[0 1] |   0\n",
            "[1 0] |   0\n",
            "[1 1] |   1\n"
          ]
        }
      ]
    },
    {
      "cell_type": "code",
      "execution_count": null,
      "metadata": {
        "metadata": {},
        "id": "T131H-QESqRh"
      },
      "outputs": [],
      "source": [
        "def OR(x):\n",
        "    w = np.array([1,1])\n",
        "    b = -0.5\n",
        "    yin=np.dot(x,w)+b\n",
        "    ynet=step(yin)\n",
        "    return ynet"
      ]
    },
    {
      "cell_type": "code",
      "source": [
        "show(inputs, OR)"
      ],
      "metadata": {
        "colab": {
          "base_uri": "https://localhost:8080/"
        },
        "id": "VvGOMkCiVUox",
        "outputId": "90167acf-4e73-4271-a04e-fdc8c3f60251"
      },
      "execution_count": null,
      "outputs": [
        {
          "output_type": "stream",
          "name": "stdout",
          "text": [
            "Input    | Output\n",
            "-----------------\n",
            "[0 0] |   0\n",
            "[0 1] |   1\n",
            "[1 0] |   1\n",
            "[1 1] |   1\n"
          ]
        }
      ]
    },
    {
      "cell_type": "code",
      "execution_count": null,
      "metadata": {
        "metadata": {},
        "id": "AENtWRuQSqRi"
      },
      "outputs": [],
      "source": [
        "def NOT(x):\n",
        "    w=-1\n",
        "    b=0.5\n",
        "    yin=np.dot(x,w)+b\n",
        "    ynet=step(yin)\n",
        "    return ynet"
      ]
    },
    {
      "cell_type": "code",
      "source": [
        "t=np.array([1])\n",
        "NOT(t)"
      ],
      "metadata": {
        "colab": {
          "base_uri": "https://localhost:8080/"
        },
        "id": "TKQoz3BvVb7E",
        "outputId": "4a389ab8-e403-4f9b-971a-e656bb49429d"
      },
      "execution_count": null,
      "outputs": [
        {
          "output_type": "execute_result",
          "data": {
            "text/plain": [
              "0"
            ]
          },
          "metadata": {},
          "execution_count": 16
        }
      ]
    },
    {
      "cell_type": "code",
      "source": [
        "t=np.array([0])\n",
        "NOT(t)"
      ],
      "metadata": {
        "colab": {
          "base_uri": "https://localhost:8080/"
        },
        "id": "JMnfa-G3Vf4w",
        "outputId": "08377c99-a657-4210-c022-748f15fb17cc"
      },
      "execution_count": null,
      "outputs": [
        {
          "output_type": "execute_result",
          "data": {
            "text/plain": [
              "1"
            ]
          },
          "metadata": {},
          "execution_count": 17
        }
      ]
    },
    {
      "cell_type": "code",
      "execution_count": null,
      "metadata": {
        "metadata": {},
        "id": "ieG5yFtPSqRi"
      },
      "outputs": [],
      "source": [
        "def NOR(x):\n",
        "    y1=np.array([OR(x)])\n",
        "    ynet=NOT(y1)\n",
        "    return ynet"
      ]
    },
    {
      "cell_type": "code",
      "execution_count": null,
      "metadata": {
        "metadata": {},
        "colab": {
          "base_uri": "https://localhost:8080/"
        },
        "id": "3Y4dOC9gSqRi",
        "outputId": "4ee90a89-43f1-4a04-ca14-6e7590a43640"
      },
      "outputs": [
        {
          "output_type": "stream",
          "name": "stdout",
          "text": [
            "Input    | Output\n",
            "-----------------\n",
            "[0 0] |   1\n",
            "[0 1] |   0\n",
            "[1 0] |   0\n",
            "[1 1] |   0\n"
          ]
        }
      ],
      "source": [
        "show(inputs,NOR)"
      ]
    },
    {
      "cell_type": "code",
      "execution_count": null,
      "metadata": {
        "metadata": {},
        "id": "8KQrVfRwSqRj"
      },
      "outputs": [],
      "source": [
        "def NAND(x):\n",
        "    y1=np.array([AND(x)])\n",
        "    ynet=NOT(y1)\n",
        "    return ynet"
      ]
    },
    {
      "cell_type": "code",
      "execution_count": null,
      "metadata": {
        "metadata": {},
        "colab": {
          "base_uri": "https://localhost:8080/"
        },
        "id": "VNhN8AacSqRj",
        "outputId": "271d2d40-f930-4a60-fa43-f23d71656dbe"
      },
      "outputs": [
        {
          "output_type": "stream",
          "name": "stdout",
          "text": [
            "Input    | Output\n",
            "-----------------\n",
            "[0 0] |   1\n",
            "[0 1] |   1\n",
            "[1 0] |   1\n",
            "[1 1] |   0\n"
          ]
        }
      ],
      "source": [
        "show(inputs,NAND)"
      ]
    },
    {
      "cell_type": "code",
      "execution_count": null,
      "metadata": {
        "metadata": {},
        "id": "5OHd47EmSqRk"
      },
      "outputs": [],
      "source": [
        "def XOR(x):\n",
        "    y1=OR(x)\n",
        "    y2=NAND(x)\n",
        "    x1 = np.array([y1,y2])\n",
        "    return AND(x1)"
      ]
    },
    {
      "cell_type": "code",
      "execution_count": null,
      "metadata": {
        "metadata": {},
        "colab": {
          "base_uri": "https://localhost:8080/"
        },
        "id": "C_kDZyJKSqRk",
        "outputId": "2b227299-515e-4518-bd85-875eb7b109f1"
      },
      "outputs": [
        {
          "output_type": "stream",
          "name": "stdout",
          "text": [
            "Input    | Output\n",
            "-----------------\n",
            "[0 0] |   0\n",
            "[0 1] |   1\n",
            "[1 0] |   1\n",
            "[1 1] |   0\n"
          ]
        }
      ],
      "source": [
        "show(inputs,XOR)"
      ]
    },
    {
      "cell_type": "markdown",
      "source": [
        "**Conclusion :** In this experiment, we implemented and tested simple neural network to simulate the behavior of an boolean logic gate. The primary limitation of the perceptron network is its inability to solve problems that are not linearly separable, such as the XOR problem. It can only classify data that can be divided by a straight line, making it unsuitable for more complex patterns and non-linear relationships."
      ],
      "metadata": {
        "id": "LPlw59jzWocv"
      }
    },
    {
      "cell_type": "code",
      "execution_count": null,
      "metadata": {
        "id": "bSVMkonvSqRk"
      },
      "outputs": [],
      "source": []
    }
  ],
  "metadata": {
    "kernelspec": {
      "display_name": "Python 3",
      "language": "python",
      "name": "python3"
    },
    "language_info": {
      "codemirror_mode": {
        "name": "ipython",
        "version": 3
      },
      "file_extension": ".py",
      "mimetype": "text/x-python",
      "name": "python",
      "nbconvert_exporter": "python",
      "pygments_lexer": "ipython3",
      "version": "3.11.5"
    },
    "colab": {
      "provenance": []
    }
  },
  "nbformat": 4,
  "nbformat_minor": 0
}