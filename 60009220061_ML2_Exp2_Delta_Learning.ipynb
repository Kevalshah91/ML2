{
 "cells": [
  {
   "cell_type": "code",
   "execution_count": 1,
   "id": "3ccfcb4a",
   "metadata": {},
   "outputs": [],
   "source": [
    "import math\n",
    "import matplotlib.pyplot as plt"
   ]
  },
  {
   "cell_type": "code",
   "execution_count": 2,
   "id": "542cc25e",
   "metadata": {},
   "outputs": [],
   "source": [
    "x=[0.5,2.5]\n",
    "y=[0.2,0.9]"
   ]
  },
  {
   "cell_type": "code",
   "execution_count": 3,
   "id": "ccdb6591",
   "metadata": {},
   "outputs": [],
   "source": [
    "def perceptron(x,w,b):\n",
    "    return x*w + b"
   ]
  },
  {
   "cell_type": "code",
   "execution_count": 4,
   "id": "ec4ce86a",
   "metadata": {},
   "outputs": [],
   "source": [
    "def sigmoid(yin):\n",
    "    yh=1/(1+math.exp(-yin))\n",
    "    return yh"
   ]
  },
  {
   "cell_type": "code",
   "execution_count": 86,
   "id": "380aa999",
   "metadata": {},
   "outputs": [],
   "source": [
    "def stochastic_gradient_descent(x, y):\n",
    "    w=0\n",
    "    b=0\n",
    "    c=0.1\n",
    "    n=0.1\n",
    "    epochs=100\n",
    "    ws=[]\n",
    "    mse=[]\n",
    "    for i in range(epochs):\n",
    "        for j in range(len(x)):\n",
    "            yin=perceptron(x[j],w,b)\n",
    "            yh=sigmoid(yin)\n",
    "            dw=c*n*(y[j]-yh)*yh*(1-yh)*x[j]\n",
    "            db=c*n*(y[j]-yh)*yh*(1-yh)\n",
    "            w=w-dw\n",
    "            b=b-db\n",
    "        ws.append(w)\n",
    "        mse.append((yh-y[j])**2) \n",
    "           \n",
    "    plt.plot(ws,mse)\n",
    "    print(\"Weight : \",w)\n",
    "    print(\"Bias : \",b)\n",
    "    return ws"
   ]
  },
  {
   "cell_type": "code",
   "execution_count": 75,
   "id": "f7534a69",
   "metadata": {},
   "outputs": [],
   "source": [
    "def batch_gradient_descent(x, y):\n",
    "    w=0\n",
    "    b=0\n",
    "    c=0.1\n",
    "    n=0.1\n",
    "    epochs=100\n",
    "    ws=[]\n",
    "    mse=[]\n",
    "    for i in range(epochs):\n",
    "        dw=0\n",
    "        db=0\n",
    "        for j in range(len(x)):\n",
    "            yin=perceptron(x[j],w,b)\n",
    "            yh=sigmoid(yin)\n",
    "            dw=dw+c*n*(y[j]-yh)*yh*(1-yh)*x[j]\n",
    "            db=db+c*n*(y[j]-yh)*yh*(1-yh)\n",
    "        w=w-dw/len(x)\n",
    "        ws.append(w)\n",
    "        mse.append((yh-y[j])**2)\n",
    "        b=b-db/len(x)\n",
    "    print(\"Weight : \",w)\n",
    "    print(\"Bias : \",b)\n",
    "    plt.plot(ws,mse)\n",
    "    return ws"
   ]
  },
  {
   "cell_type": "code",
   "execution_count": 83,
   "id": "41b5cf3b",
   "metadata": {},
   "outputs": [],
   "source": [
    "# stochastic_gradient_descent(x,y)"
   ]
  },
  {
   "cell_type": "code",
   "execution_count": null,
   "id": "4d806488",
   "metadata": {},
   "outputs": [],
   "source": []
  },
  {
   "cell_type": "code",
   "execution_count": 101,
   "id": "696186a0",
   "metadata": {},
   "outputs": [],
   "source": [
    "m=[0.4,4.5,6.5,7.9,10]\n",
    "n=[0.4,0.6,1.4,4.5,5]"
   ]
  },
  {
   "cell_type": "code",
   "execution_count": 81,
   "id": "c811f3f9",
   "metadata": {},
   "outputs": [],
   "source": [
    "# stochastic_gradient_descent(m,n)"
   ]
  },
  {
   "cell_type": "code",
   "execution_count": null,
   "id": "529d5d35",
   "metadata": {},
   "outputs": [],
   "source": []
  },
  {
   "cell_type": "code",
   "execution_count": 95,
   "id": "fc9402d0",
   "metadata": {},
   "outputs": [],
   "source": [
    "store=[]\n",
    "for i in range(100):\n",
    "    store.append(i)"
   ]
  },
  {
   "cell_type": "code",
   "execution_count": 96,
   "id": "96d7aefa",
   "metadata": {},
   "outputs": [
    {
     "name": "stdout",
     "output_type": "stream",
     "text": [
      "Weight :  -0.829605711500143\n",
      "Bias :  -0.11022128703817714\n"
     ]
    },
    {
     "data": {
      "image/png": "[encoded data removed]",
      "text/plain": [
       "<Figure size 432x288 with 1 Axes>"
      ]
     },
     "metadata": {
      "needs_background": "light"
     },
     "output_type": "display_data"
    }
   ],
   "source": [
    "wss=stochastic_gradient_descent(m,n)"
   ]
  },
  {
   "cell_type": "code",
   "execution_count": 97,
   "id": "a01162c0",
   "metadata": {},
   "outputs": [
    {
     "name": "stdout",
     "output_type": "stream",
     "text": [
      "100\n"
     ]
    }
   ],
   "source": [
    "print(len(wss))"
   ]
  },
  {
   "cell_type": "code",
   "execution_count": 98,
   "id": "778ded2d",
   "metadata": {},
   "outputs": [
    {
     "data": {
      "image/png": "[encoded data removed]",
      "text/plain": [
       "<Figure size 432x288 with 1 Axes>"
      ]
     },
     "metadata": {
      "needs_background": "light"
     },
     "output_type": "display_data"
    }
   ],
   "source": [
    "plt.title(\"Epochs vs Weights\")\n",
    "plt.plot(store,wss)\n",
    "plt.show()"
   ]
  },
  {
   "cell_type": "code",
   "execution_count": 99,
   "id": "0570f2c2",
   "metadata": {},
   "outputs": [
    {
     "name": "stdout",
     "output_type": "stream",
     "text": [
      "Weight :  -0.6011558845788816\n",
      "Bias :  -0.0744864650498021\n"
     ]
    },
    {
     "data": {
      "image/png": "[encoded data removed]",
      "text/plain": [
       "<Figure size 432x288 with 1 Axes>"
      ]
     },
     "metadata": {
      "needs_background": "light"
     },
     "output_type": "display_data"
    }
   ],
   "source": [
    "weights=batch_gradient_descent(m,n)"
   ]
  },
  {
   "cell_type": "code",
   "execution_count": 100,
   "id": "bada5ac3",
   "metadata": {},
   "outputs": [
    {
     "data": {
      "image/png": "[encoded data removed]",
      "text/plain": [
       "<Figure size 432x288 with 1 Axes>"
      ]
     },
     "metadata": {
      "needs_background": "light"
     },
     "output_type": "display_data"
    }
   ],
   "source": [
    "plt.title(\"Epochs vs Weights\")\n",
    "plt.plot(store,weights)\n",
    "plt.show()"
   ]
  },
  {
   "cell_type": "code",
   "execution_count": null,
   "id": "a2a79d9a",
   "metadata": {},
   "outputs": [],
   "source": []
  },
  {
   "cell_type": "code",
   "execution_count": null,
   "id": "6176bf88",
   "metadata": {},
   "outputs": [],
   "source": []
  }
 ],
 "metadata": {
  "kernelspec": {
   "display_name": "Python 3",
   "language": "python",
   "name": "python3"
  },
  "language_info": {
   "codemirror_mode": {
    "name": "ipython",
    "version": 3
   },
   "file_extension": ".py",
   "mimetype": "text/x-python",
   "name": "python",
   "nbconvert_exporter": "python",
   "pygments_lexer": "ipython3",
   "version": "3.8.8"
  }
 },
 "nbformat": 4,
 "nbformat_minor": 5
}
